{
  "nbformat": 4,
  "nbformat_minor": 0,
  "metadata": {
    "colab": {
      "provenance": []
    },
    "kernelspec": {
      "name": "python3",
      "display_name": "Python 3"
    },
    "language_info": {
      "name": "python"
    }
  },
  "cells": [
    {
      "cell_type": "code",
      "execution_count": null,
      "metadata": {
        "id": "piDKvz4LqL1G"
      },
      "outputs": [],
      "source": [
        "import pandas as pd\n",
        "import requests\n",
        "from bs4 import BeautifulSoup\n",
        "\n",
        "base_url = \"https://www.airlinequality.com/airline-reviews/british-airways\"\n",
        "pages = 50\n",
        "page_size = 100\n",
        "\n",
        "reviews = []\n",
        "ratings = []\n",
        "\n",
        "for i in range(1, pages + 1):\n",
        "    print(f\"Scraping page {i}\")\n",
        "\n",
        "    # Create URL to collect links from paginated data\n",
        "    url = f\"{base_url}/page/{i}/?sortby=post_date%3ADesc&pagesize={page_size}\"\n",
        "\n",
        "    # Collect HTML data from this page\n",
        "    response = requests.get(url)\n",
        "\n",
        "    # Parse content\n",
        "    content = response.content\n",
        "    parsed_content = BeautifulSoup(content, 'html.parser')\n",
        "\n",
        "    # Find all <div> elements with the itemprop attribute set to \"reviewRating\"\n",
        "    rating_elements = parsed_content.find_all(\"div\", {\"itemprop\": \"reviewRating\"})\n",
        "\n",
        "    for rating_element in rating_elements:\n",
        "        # Find the <span> element with the itemprop attribute set to \"ratingValue\"\n",
        "        rating_value_element = rating_element.find(\"span\", {\"itemprop\": \"ratingValue\"})\n",
        "\n",
        "        # Extract the text content of the element, which is the rating value\n",
        "        rating = rating_value_element.text\n",
        "\n",
        "        ratings.append(rating)\n",
        "    \n",
        "    print(f\"   ---> {len(ratings)} total ratings\")\n",
        "\n",
        "    for para in parsed_content.find_all(\"div\", {\"class\": \"text_content\"}):\n",
        "        reviews.append(para.get_text())\n",
        "    \n",
        "    print(f\"   ---> {len(reviews)} total reviews\")\n",
        "\n",
        "if len(reviews) != len(ratings):\n",
        "    difference = len(reviews) - len(ratings)\n",
        "    for i in range(0, difference):\n",
        "        ratings.append(0)\n",
        "\n",
        "# Store the ratings and reviews in a pandas DataFrame\n",
        "df = pd.DataFrame({\"rating\": ratings, \"review\": reviews})\n",
        "\n",
        "# Write the DataFrame to a CSV file\n",
        "df.to_csv(\"ab-aviation.csv\", index=False)\n"
      ]
    }
  ]
}